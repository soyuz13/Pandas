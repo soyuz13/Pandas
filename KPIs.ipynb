{
  "nbformat": 4,
  "nbformat_minor": 0,
  "metadata": {
    "colab": {
      "name": "KPIs.ipynb",
      "provenance": [],
      "mount_file_id": "1rFiDWPTSOrdDRTMuYX2Gf6Na5foF9U4J",
      "authorship_tag": "ABX9TyNHdZLhs8mNBd1q3Fq+MK9w",
      "include_colab_link": true
    },
    "kernelspec": {
      "name": "python3",
      "display_name": "Python 3"
    },
    "language_info": {
      "name": "python"
    }
  },
  "cells": [
    {
      "cell_type": "markdown",
      "metadata": {
        "id": "view-in-github",
        "colab_type": "text"
      },
      "source": [
        "<a href=\"https://colab.research.google.com/github/soyuz13/Pandas/blob/master/KPIs.ipynb\" target=\"_parent\"><img src=\"https://colab.research.google.com/assets/colab-badge.svg\" alt=\"Open In Colab\"/></a>"
      ]
    },
    {
      "cell_type": "code",
      "source": [
        "from google.colab import files\n",
        "uploaded = files.upload()"
      ],
      "metadata": {
        "colab": {
          "resources": {
            "http://localhost:8080/nbextensions/google.colab/files.js": {
              "data": "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",
              "ok": true,
              "headers": [
                [
                  "content-type",
                  "application/javascript"
                ]
              ],
              "status": 200,
              "status_text": "OK"
            }
          },
          "base_uri": "https://localhost:8080/",
          "height": 71
        },
        "id": "yjcvn8j_tCjx",
        "outputId": "97939173-cb0f-434a-e3e5-485dcbf8c4b0"
      },
      "execution_count": null,
      "outputs": [
        {
          "output_type": "display_data",
          "data": {
            "text/plain": [
              "<IPython.core.display.HTML object>"
            ],
            "text/html": [
              "\n",
              "     <input type=\"file\" id=\"files-db2260ca-5212-4556-81da-5820b9efe683\" name=\"files[]\" multiple disabled\n",
              "        style=\"border:none\" />\n",
              "     <output id=\"result-db2260ca-5212-4556-81da-5820b9efe683\">\n",
              "      Upload widget is only available when the cell has been executed in the\n",
              "      current browser session. Please rerun this cell to enable.\n",
              "      </output>\n",
              "      <script src=\"/nbextensions/google.colab/files.js\"></script> "
            ]
          },
          "metadata": {}
        },
        {
          "output_type": "stream",
          "name": "stdout",
          "text": [
            "Saving kpi_config.py to kpi_config.py\n"
          ]
        }
      ]
    },
    {
      "cell_type": "code",
      "source": [
        "!pip3 install mysqlclient"
      ],
      "metadata": {
        "colab": {
          "base_uri": "https://localhost:8080/"
        },
        "id": "IhPOlbqqjm0g",
        "outputId": "239f486f-8fd2-4bae-d07d-8b7c7032cf92"
      },
      "execution_count": null,
      "outputs": [
        {
          "output_type": "stream",
          "name": "stdout",
          "text": [
            "Looking in indexes: https://pypi.org/simple, https://us-python.pkg.dev/colab-wheels/public/simple/\n",
            "Collecting mysqlclient\n",
            "  Downloading mysqlclient-2.1.1.tar.gz (88 kB)\n",
            "\u001b[K     |████████████████████████████████| 88 kB 4.6 MB/s \n",
            "\u001b[?25hBuilding wheels for collected packages: mysqlclient\n",
            "  Building wheel for mysqlclient (setup.py) ... \u001b[?25l\u001b[?25hdone\n",
            "  Created wheel for mysqlclient: filename=mysqlclient-2.1.1-cp37-cp37m-linux_x86_64.whl size=99975 sha256=9b1c734b4107e7034ddbbfaff689b6aef0941b9a5807ca9220577e970c41bda9\n",
            "  Stored in directory: /root/.cache/pip/wheels/95/2d/67/2cb3f82e435fc8e055cb2761a15a0812bf086068f6fb835462\n",
            "Successfully built mysqlclient\n",
            "Installing collected packages: mysqlclient\n",
            "Successfully installed mysqlclient-2.1.1\n"
          ]
        }
      ]
    },
    {
      "cell_type": "code",
      "source": [
        "import datetime as dtime\n",
        "from dataclasses import dataclass\n",
        "from sqlalchemy import create_engine, MetaData, Table, Column, Integer, func\n",
        "from dateutil.relativedelta import relativedelta, SU, MO\n",
        "from urllib.parse import quote_plus as urlquote\n",
        "from sqlalchemy.orm import mapper, clear_mappers, sessionmaker\n",
        "from enum import Enum\n",
        "from kpi_config import DB_USER, DB_PASSWORD, DB_HOST, DB_PORT, DB_CHARSET, DB_NAME, DB_TYPE"
      ],
      "metadata": {
        "id": "UhcOxfqsL9Mg"
      },
      "execution_count": null,
      "outputs": []
    },
    {
      "cell_type": "code",
      "source": [
        "@dataclass\n",
        "class Period:\n",
        "  _today: dtime = dtime.datetime.now().date()\n",
        "  \n",
        "  @property\n",
        "  def current_day(self):\n",
        "    return self._today, self._today\n",
        "\n",
        "  @property\n",
        "  def current_week(self):\n",
        "    min_date = self._today + relativedelta(weeks=0, weekday=MO(-1))\n",
        "    max_date = self._today + relativedelta(weeks=0, weekday=SU(+1))\n",
        "    return min_date, max_date\n",
        "\n",
        "  @property\n",
        "  def current_month(self):\n",
        "    min_date = self._today + relativedelta(months=0, day=1)\n",
        "    max_date = self._today + relativedelta(months=0, day=31)\n",
        "    return min_date, max_date\n",
        "\n",
        "  @property\n",
        "  def current_year(self):\n",
        "    min_date = self._today + relativedelta(years=0, day=1)\n",
        "    max_date = self._today + relativedelta(years=0, day=366)\n",
        "    return min_date, max_date\n",
        "\n",
        "  @property\n",
        "  def previous_day(self):\n",
        "    return self._today + relativedelta(days=-1), self._today + relativedelta(days=-1)\n",
        "\n",
        "  @property\n",
        "  def previous_week(self):\n",
        "    min_date = self._today + relativedelta(weeks=-1, weekday=MO(-1))\n",
        "    max_date = self._today + relativedelta(weeks=-1, weekday=SU(+1))\n",
        "    return min_date, max_date\n",
        "\n",
        "  @property\n",
        "  def previous_month(self):\n",
        "    min_date = self._today + relativedelta(months=-1, day=1)\n",
        "    max_date = self._today + relativedelta(months=-1, day=31)\n",
        "    return min_date, max_date\n",
        "\n",
        "  @property\n",
        "  def previous_year(self):\n",
        "    min_date = self._today + relativedelta(years=-1, day=1)\n",
        "    max_date = self._today + relativedelta(years=-1, day=366)\n",
        "    return min_date, max_date\n",
        "\n",
        "  @property\n",
        "  def previous_week_p(self):\n",
        "    min_date = self._today + relativedelta(weeks=-1, weekday=MO(-1))\n",
        "    max_date = self._today + relativedelta(weeks=-1)\n",
        "    return min_date, max_date\n",
        "\n",
        "  @property\n",
        "  def previous_month_p(self):\n",
        "    min_date = self._today + relativedelta(months=-1, day=1)\n",
        "    max_date = self._today + relativedelta(months=-1)\n",
        "    return min_date, max_date\n",
        "\n",
        "  @property\n",
        "  def previous_year_p(self):\n",
        "    min_date = self._today + relativedelta(years=-1, day=1)\n",
        "    max_date = self._today + relativedelta(years=-1)\n",
        "    return min_date, max_date\n",
        "\n",
        "  def any_week(self, date: dtime.datetime):\n",
        "    min_date = date + relativedelta(weekday=MO(-1))\n",
        "    max_date = date + relativedelta(weekday=SU(+1))\n",
        "    return min_date, max_date\n",
        "\n",
        "  def any_year(self, date: dtime.datetime):\n",
        "    min_date = date + relativedelta(years=0, month=1, day=1)\n",
        "    max_date = date + relativedelta(years=0, month=12, day=31)\n",
        "    return min_date, max_date\n",
        "\n",
        "  def any_month(self, date: dtime.datetime):\n",
        "    min_date = date + relativedelta(months=0, day=1)\n",
        "    max_date = date + relativedelta(months=0, day=31)\n",
        "    return min_date, max_date\n"
      ],
      "metadata": {
        "id": "QtKPm9ByTlDg"
      },
      "execution_count": null,
      "outputs": []
    },
    {
      "cell_type": "code",
      "source": [
        "class KPI:\n",
        "  class R:\n",
        "    pass\n",
        "\n",
        "  class D:\n",
        "    pass\n",
        "\n",
        "  def __init__(self, data_connection: tuple):\n",
        "    engine, self.session = data_connection\n",
        "    rawsales = Table('rawsales', MetaData(), Column(\"key\", Integer, primary_key=True), autoload_with=engine)\n",
        "    discountsales = Table('discountsales', MetaData(), Column(\"key\", Integer, primary_key=True), autoload_with=engine)\n",
        "    clear_mappers()\n",
        "    mapper(self.R, rawsales, primary_key=[rawsales.c.key])\n",
        "    mapper(self.D, discountsales, primary_key=[discountsales.c.key])\n",
        "\n",
        "  @staticmethod\n",
        "  def _check_result(query_result: any):\n",
        "    query_result = query_result if query_result else 0\n",
        "    return query_result\n",
        "\n",
        "  def revenue(self, period: Period) -> float:\n",
        "    res = self.session.query(\n",
        "    func.sum(self.R.sum)\n",
        "    ).filter(\n",
        "        self.R.date>=period[0], \n",
        "        self.R.date<=period[1]\n",
        "        )\n",
        "    return round(self._check_result(res.first()[0]), 2)\n",
        "\n",
        "  def checks(self, period: Period) -> float:\n",
        "    res = self.session.query(\n",
        "    func.count(func.distinct(self.R.sale_id))\n",
        "    ).filter(\n",
        "        self.R.date>=period[0], \n",
        "        self.R.date<=period[1]\n",
        "        )\n",
        "    return self._check_result(res.first()[0])\n",
        "\n",
        "  def revenue_returnes(self, period: Period) -> float:\n",
        "    res = self.session.query(\n",
        "    func.sum(self.R.sum)\n",
        "    ).filter(\n",
        "        self.R.date>=period[0], \n",
        "        self.R.date<=period[1],\n",
        "        self.R.field0==3\n",
        "    )\n",
        "    return -round(self._check_result(res.first()[0]), 2)\n",
        "\n",
        "  def cheks_returnes(self, period: Period) -> float:\n",
        "    res = self.session.query(\n",
        "    func.count(func.distinct(self.R.sale_id))\n",
        "    ).filter(\n",
        "        self.R.date>=period[0], \n",
        "        self.R.date<=period[1],\n",
        "        self.R.field0==3\n",
        "    )\n",
        "    return self._check_result(res.first()[0])\n",
        "\n",
        "  def revenue_discount(self, period: Period) -> float:\n",
        "    res = self.session.query(\n",
        "    func.sum(self.D.fullsum)\n",
        "    ).filter(\n",
        "        self.D.date>=period[0], \n",
        "        self.D.date<=period[1]\n",
        "    )\n",
        "    return round(self._check_result(res.first()[0]), 2)\n",
        "\n",
        "  def checks_discount(self, period: Period) -> float:\n",
        "    res = self.session.query(\n",
        "    func.count(func.distinct(self.D.sale_id))\n",
        "    ).filter(\n",
        "        self.D.date>=period[0], \n",
        "        self.D.date<=period[1]\n",
        "        )\n",
        "    return self._check_result(res.first()[0])\n",
        "\n",
        "  def revenue_coffee(self, period: Period) -> float:\n",
        "    goods = 'КР'\n",
        "    res = self.session.query(\n",
        "    func.sum(self.R.sum)\n",
        "    ).filter(\n",
        "        self.R.date>=period[0], \n",
        "        self.R.date<=period[1],\n",
        "        self.R.goods.like(f'{goods}%')\n",
        "        )\n",
        "    return round(self._check_result(res.first()[0]), 2)\n",
        "\n",
        "  def revenue_tea(self, period: Period) -> float:\n",
        "    goods = 'ЧР'\n",
        "    res = self.session.query(\n",
        "    func.sum(self.R.sum)\n",
        "    ).filter(\n",
        "        self.R.date>=period[0], \n",
        "        self.R.date<=period[1],\n",
        "        self.R.goods.like(f'{goods}%')\n",
        "        )\n",
        "    return round(self._check_result(res.first()[0]), 2)\n",
        "\n",
        "  def revenue_presents(self, period: Period) -> float:\n",
        "    goods = 'ПП '\n",
        "    res = self.session.query(\n",
        "    func.sum(self.R.sum)\n",
        "    ).filter(\n",
        "        self.R.date>=period[0], \n",
        "        self.R.date<=period[1],\n",
        "        self.R.goods.like(f'{goods}%')\n",
        "        )\n",
        "    return round(self._check_result(res.first()[0]), 2)\n",
        "\n",
        "  def quantity_presents(self, period: Period) -> float:\n",
        "    goods = 'ПП '\n",
        "    res = self.session.query(\n",
        "    func.count(self.R.goods)\n",
        "    ).filter(\n",
        "        self.R.date>=period[0], \n",
        "        self.R.date<=period[1],\n",
        "        self.R.goods.like(f'{goods}%')\n",
        "        )\n",
        "    return self._check_result(res.first()[0])\n",
        "\n",
        "  def revenue_bouquet(self, period: Period) -> float:\n",
        "    goods = 'Б '\n",
        "    res = self.session.query(\n",
        "    func.sum(self.R.sum)\n",
        "    ).filter(\n",
        "        self.R.date>=period[0], \n",
        "        self.R.date<=period[1],\n",
        "        self.R.goods.like(f'{goods}%')\n",
        "        )\n",
        "    return round(self._check_result(res.first()[0]), 2)\n",
        "\n",
        "  def quantity_bouquet(self, period: Period) -> float:\n",
        "    goods = 'Б '\n",
        "    res = self.session.query(\n",
        "    func.count(self.R.goods)\n",
        "    ).filter(\n",
        "        self.R.date>=period[0], \n",
        "        self.R.date<=period[1],\n",
        "        self.R.goods.like(f'{goods}%')\n",
        "        )\n",
        "    return self._check_result(res.first()[0])\n",
        "\n",
        "  def revenue_basket(self, period: Period) -> float:\n",
        "    goods = 'К '\n",
        "    res = self.session.query(\n",
        "    func.sum(self.R.sum)\n",
        "    ).filter(\n",
        "        self.R.date>=period[0], \n",
        "        self.R.date<=period[1],\n",
        "        self.R.goods.like(f'{goods}%')\n",
        "        )\n",
        "    return round(self._check_result(res.first()[0]), 2)\n",
        "\n",
        "  def quantity_basket(self, period: Period) -> float:\n",
        "    goods = 'К '\n",
        "    res = self.session.query(\n",
        "    func.count(self.R.goods)\n",
        "    ).filter(\n",
        "        self.R.date>=period[0], \n",
        "        self.R.date<=period[1],\n",
        "        self.R.goods.like(f'{goods}%')\n",
        "        )\n",
        "    return self._check_result(res.first()[0])\n",
        "\n",
        "  def revenue_packing(self, period: Period) -> float:\n",
        "    goods = 'упаковка'\n",
        "    res = self.session.query(\n",
        "    func.sum(self.R.sum)\n",
        "    ).filter(\n",
        "        self.R.date>=period[0], \n",
        "        self.R.date<=period[1],\n",
        "        self.R.goods.like(f'%{goods}%')\n",
        "        )\n",
        "    return round(self._check_result(res.first()[0]), 2)\n",
        "\n",
        "  def quantity_packing(self, period: Period) -> float:\n",
        "    goods = 'упаковка'\n",
        "    res = self.session.query(\n",
        "    func.count(self.R.goods)\n",
        "    ).filter(\n",
        "        self.R.date>=period[0], \n",
        "        self.R.date<=period[1],\n",
        "        self.R.goods.like(f'%{goods}%')\n",
        "        )\n",
        "    return self._check_result(res.first()[0])\n",
        "\n",
        "  def pockets_coffee(self, period: Period) -> float:\n",
        "    goods = 'КР '\n",
        "    res = self.session.query(\n",
        "    func.count(self.R.sale_id)\n",
        "    ).filter(\n",
        "        self.R.date>=period[0], \n",
        "        self.R.date<=period[1],\n",
        "        self.R.goods.like(f'{goods}%')\n",
        "        )\n",
        "    return self._check_result(res.first()[0])\n",
        "\n",
        "  def pockets_tea(self, period: Period) -> float:\n",
        "    goods = 'ЧР '\n",
        "    res = self.session.query(\n",
        "    func.count(self.R.sale_id)\n",
        "    ).filter(\n",
        "        self.R.date>=period[0], \n",
        "        self.R.date<=period[1],\n",
        "        self.R.goods.like(f'{goods}%')\n",
        "        )\n",
        "    return self._check_result(res.first()[0])"
      ],
      "metadata": {
        "id": "iqEm5PLMYEMV"
      },
      "execution_count": null,
      "outputs": []
    },
    {
      "cell_type": "code",
      "source": [
        "class DataConn:\n",
        "  def __init__(self, user: str='', password: str='', host: str='localhost', \n",
        "               port: int=3306, db_name: str='vlazer', charset: str='utf8',\n",
        "               db_type: str='mysql'):\n",
        "    self.user = user\n",
        "    self.password = password\n",
        "    self.host = host\n",
        "    self.port = port\n",
        "    self.db_name = db_name\n",
        "    self.charset = charset\n",
        "    self.db_type = db_type\n",
        "    \n",
        "  def __enter__(self):\n",
        "    self.engine = create_engine(f'{self.db_type}://{self.user}:{urlquote(self.password)}@{self.host}:{self.port}/{self.db_name}?charset={self.charset}', echo=False)\n",
        "    Session = sessionmaker(bind = self.engine)\n",
        "    self.session = Session()\n",
        "    return self.engine, self.session\n",
        "    \n",
        "  def __exit__(self, exc_type, exc_val, exc_tb):\n",
        "    self.session.close()\n",
        "    if exc_val:\n",
        "      raise "
      ],
      "metadata": {
        "id": "ZwphMQ63TfuC"
      },
      "execution_count": null,
      "outputs": []
    },
    {
      "cell_type": "code",
      "source": [
        "period = Period()\n",
        "per = period.current_month\n",
        "with DataConn(DB_USER, DB_PASSWORD, DB_HOST, DB_PORT, DB_NAME) as data_connection:\n",
        "  kpi = KPI(data_connection)\n",
        "  print(kpi.checks(per))"
      ],
      "metadata": {
        "colab": {
          "base_uri": "https://localhost:8080/"
        },
        "id": "nxY4vGmW9Mc5",
        "outputId": "880e9b9a-a2de-49c5-b384-27cba5c2ba43"
      },
      "execution_count": null,
      "outputs": [
        {
          "output_type": "stream",
          "name": "stdout",
          "text": [
            "213\n"
          ]
        }
      ]
    },
    {
      "cell_type": "code",
      "source": [
        "per = period.current_month\n",
        "str1 = f'Всего: {kpi.checks(per)} на {kpi.revenue(per)} руб.\\n'\n",
        "str2 = f'Карты: {kpi.checks_discount(per)} на {kpi.revenue_discount(per)} руб.\\n'\n",
        "str3 = f'Кофе: {kpi.revenue_coffee(per)}\\n'\n",
        "str4 = f'Чай: {kpi.revenue_tea(per)}\\n'\n",
        "str5 = f'Подарки: {kpi.revenue_presents(per)}\\n'\n",
        "str = ''.join((str1, str2, str3, str4, str5))\n",
        "print(str)"
      ],
      "metadata": {
        "id": "idxTU79oNTvb",
        "colab": {
          "base_uri": "https://localhost:8080/"
        },
        "outputId": "d4ae580e-14ca-4891-9ced-e90029d68643"
      },
      "execution_count": null,
      "outputs": [
        {
          "output_type": "stream",
          "name": "stdout",
          "text": [
            "Всего: 213 на 158109.13 руб.\n",
            "Карты: 73 на 76035.23 руб.\n",
            "Кофе: 47589.61\n",
            "Чай: 72256.97\n",
            "Подарки: 0\n",
            "\n"
          ]
        }
      ]
    },
    {
      "cell_type": "code",
      "source": [
        "attrs = list(getattr(kpi, name) for name in dir(kpi))"
      ],
      "metadata": {
        "id": "hU8RYJ--IzjP"
      },
      "execution_count": null,
      "outputs": []
    },
    {
      "cell_type": "code",
      "source": [
        "import inspect"
      ],
      "metadata": {
        "id": "VQ7HNcTJKC6s"
      },
      "execution_count": null,
      "outputs": []
    },
    {
      "cell_type": "code",
      "source": [
        "methods = list(filter(inspect.ismethod, attrs))"
      ],
      "metadata": {
        "id": "FDwNAW3ZJ2FG"
      },
      "execution_count": null,
      "outputs": []
    },
    {
      "cell_type": "code",
      "source": [
        "methods[1:]"
      ],
      "metadata": {
        "colab": {
          "base_uri": "https://localhost:8080/"
        },
        "id": "nUjhQHwiQtwE",
        "outputId": "57740054-c123-4d34-9417-a8cb58dbf63c"
      },
      "execution_count": null,
      "outputs": [
        {
          "output_type": "execute_result",
          "data": {
            "text/plain": [
              "[<bound method KPI.checks of <__main__.KPI object at 0x7fcba99afbd0>>,\n",
              " <bound method KPI.checks_discount of <__main__.KPI object at 0x7fcba99afbd0>>,\n",
              " <bound method KPI.cheks_returnes of <__main__.KPI object at 0x7fcba99afbd0>>,\n",
              " <bound method KPI.pockets_coffee of <__main__.KPI object at 0x7fcba99afbd0>>,\n",
              " <bound method KPI.pockets_tea of <__main__.KPI object at 0x7fcba99afbd0>>,\n",
              " <bound method KPI.quantity_basket of <__main__.KPI object at 0x7fcba99afbd0>>,\n",
              " <bound method KPI.quantity_bouquet of <__main__.KPI object at 0x7fcba99afbd0>>,\n",
              " <bound method KPI.quantity_packing of <__main__.KPI object at 0x7fcba99afbd0>>,\n",
              " <bound method KPI.quantity_presents of <__main__.KPI object at 0x7fcba99afbd0>>,\n",
              " <bound method KPI.revenue of <__main__.KPI object at 0x7fcba99afbd0>>,\n",
              " <bound method KPI.revenue_basket of <__main__.KPI object at 0x7fcba99afbd0>>,\n",
              " <bound method KPI.revenue_bouquet of <__main__.KPI object at 0x7fcba99afbd0>>,\n",
              " <bound method KPI.revenue_coffee of <__main__.KPI object at 0x7fcba99afbd0>>,\n",
              " <bound method KPI.revenue_discount of <__main__.KPI object at 0x7fcba99afbd0>>,\n",
              " <bound method KPI.revenue_packing of <__main__.KPI object at 0x7fcba99afbd0>>,\n",
              " <bound method KPI.revenue_presents of <__main__.KPI object at 0x7fcba99afbd0>>,\n",
              " <bound method KPI.revenue_returnes of <__main__.KPI object at 0x7fcba99afbd0>>,\n",
              " <bound method KPI.revenue_tea of <__main__.KPI object at 0x7fcba99afbd0>>]"
            ]
          },
          "metadata": {},
          "execution_count": 12
        }
      ]
    },
    {
      "cell_type": "code",
      "source": [
        "for i in methods[1:]:\n",
        "  print(i, i(per))"
      ],
      "metadata": {
        "colab": {
          "base_uri": "https://localhost:8080/"
        },
        "id": "5yvRFZ9SQul3",
        "outputId": "5520e0d1-f97f-4e19-f7b3-81134c669f1f"
      },
      "execution_count": null,
      "outputs": [
        {
          "output_type": "stream",
          "name": "stdout",
          "text": [
            "<bound method KPI.checks of <__main__.KPI object at 0x7fcba99afbd0>> 210\n",
            "<bound method KPI.checks_discount of <__main__.KPI object at 0x7fcba99afbd0>> 73\n",
            "<bound method KPI.cheks_returnes of <__main__.KPI object at 0x7fcba99afbd0>> 2\n",
            "<bound method KPI.pockets_coffee of <__main__.KPI object at 0x7fcba99afbd0>> 67\n",
            "<bound method KPI.pockets_tea of <__main__.KPI object at 0x7fcba99afbd0>> 211\n",
            "<bound method KPI.quantity_basket of <__main__.KPI object at 0x7fcba99afbd0>> 0\n",
            "<bound method KPI.quantity_bouquet of <__main__.KPI object at 0x7fcba99afbd0>> 0\n",
            "<bound method KPI.quantity_packing of <__main__.KPI object at 0x7fcba99afbd0>> 0\n",
            "<bound method KPI.quantity_presents of <__main__.KPI object at 0x7fcba99afbd0>> 0\n",
            "<bound method KPI.revenue of <__main__.KPI object at 0x7fcba99afbd0>> 157041.57\n",
            "<bound method KPI.revenue_basket of <__main__.KPI object at 0x7fcba99afbd0>> 0\n",
            "<bound method KPI.revenue_bouquet of <__main__.KPI object at 0x7fcba99afbd0>> 0\n",
            "<bound method KPI.revenue_coffee of <__main__.KPI object at 0x7fcba99afbd0>> 47589.61\n",
            "<bound method KPI.revenue_discount of <__main__.KPI object at 0x7fcba99afbd0>> 76035.23\n",
            "<bound method KPI.revenue_packing of <__main__.KPI object at 0x7fcba99afbd0>> 0\n",
            "<bound method KPI.revenue_presents of <__main__.KPI object at 0x7fcba99afbd0>> 0\n",
            "<bound method KPI.revenue_returnes of <__main__.KPI object at 0x7fcba99afbd0>> 717.64\n",
            "<bound method KPI.revenue_tea of <__main__.KPI object at 0x7fcba99afbd0>> 71189.41\n"
          ]
        }
      ]
    }
  ]
}