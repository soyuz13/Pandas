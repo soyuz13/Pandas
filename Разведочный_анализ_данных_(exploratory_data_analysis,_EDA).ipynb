{
  "metadata": {
    "kernelspec": {
      "display_name": "Python 3",
      "language": "python",
      "name": "python3"
    },
    "language_info": {
      "name": "python",
      "version": "3.6.6",
      "mimetype": "text/x-python",
      "codemirror_mode": {
        "name": "ipython",
        "version": 3
      },
      "pygments_lexer": "ipython3",
      "nbconvert_exporter": "python",
      "file_extension": ".py"
    },
    "colab": {
      "name": "Разведочный анализ данных (exploratory data analysis, EDA).ipynb",
      "provenance": [],
      "include_colab_link": true
    }
  },
  "nbformat_minor": 0,
  "nbformat": 4,
  "cells": [
    {
      "cell_type": "markdown",
      "metadata": {
        "id": "view-in-github",
        "colab_type": "text"
      },
      "source": [
        "<a href=\"https://colab.research.google.com/github/soyuz13/Pandas/blob/master/%D0%A0%D0%B0%D0%B7%D0%B2%D0%B5%D0%B4%D0%BE%D1%87%D0%BD%D1%8B%D0%B8%CC%86_%D0%B0%D0%BD%D0%B0%D0%BB%D0%B8%D0%B7_%D0%B4%D0%B0%D0%BD%D0%BD%D1%8B%D1%85_(exploratory_data_analysis%2C_EDA).ipynb\" target=\"_parent\"><img src=\"https://colab.research.google.com/assets/colab-badge.svg\" alt=\"Open In Colab\"/></a>"
      ]
    },
    {
      "cell_type": "markdown",
      "source": [
        "# Разведочный анализ данных (exploratory data analysis, EDA)\n",
        "\n",
        "Задачи, которые ставятся перед аналитиками, достаточно разнообразны. Однако всё начинается с данных. \n",
        "\n",
        "В этом курсе мы не будем касаться бизнес-составляющей анализа данных, но при этом нужно понимать, что данные не берутся \"из воздуха\". Как и задачи, связанные с ними. В книге [Билла Фрэнкса](https://play.google.com/store/books/details/%D0%91_%D0%A4%D1%80%D1%8D%D0%BD%D0%BA%D1%81_%D0%A0%D0%B5%D0%B2%D0%BE%D0%BB%D1%8E%D1%86%D0%B8%D1%8F_%D0%B2_%D0%B0%D0%BD%D0%B0%D0%BB%D0%B8%D1%82%D0%B8%D0%BA%D0%B5_%D0%9A%D0%B0%D0%BA_%D0%B2_%D1%8D%D0%BF%D0%BE%D1%85%D1%83_Big_Dat?id=yPvkDQAAQBAJ) об операционной аналитике автор акцентирует внимание на том, что непродуманные инвестиции в сбор и хранение данных по принципу \"а вдруг потом пригодятся\" зачастую себя не оправдывают. Только после того, как поставлена определённая цель, можно начинать процесс сбора (или, возможно, покупки) и анализа данных.\n",
        "\n",
        "К сожалению, на практике данные в \"сыром\" виде обычно малопригодны для анализа. Процесс подготовки и очистки данных (препроцессинг, англ. data preparation, pre-processing, data cleaning) может быть **весьма трудоёмким** и по времени занимать больше, чем собственно построение и валидация моделей на основе данных. Выделим некоторые составляющие этого процесса:\n",
        "\n",
        "- data specification (понимание данных)\n",
        "- data editing (редактирование данных, исправление ошибок --- ручное, автоматическое или их комбинация)\n",
        "- работа с пропущенными значениями\n",
        "- нормализация\n",
        "- feature extraction and selection (создание и отбор признаков)\n",
        "\n",
        "В результате получаем данные в удобном для анализа формате, как правило, табличном. Таблица (или датафрейм) имеет структуру \"объекты-признаки\": строки соответствуют отдельным сущностям (объектам, примерам, экземплярам), а столбцы --- атрибутам этих сущностей (признакам)."
      ],
      "metadata": {
        "_uuid": "217a5a64e3cf53f4c9782083692c9989f83374d9",
        "id": "RhmQ_QDpJxyY"
      }
    },
    {
      "cell_type": "markdown",
      "source": [
        "## Экосистема Python. Библиотека NumPy\n",
        "\n",
        "Python --- высокоуровневый язык программирования общего назначения. На сегодня это наиболее востребованный язык программирования в Data Science и Machine Learning. Однако \"чистый\" Python имеет ряд недостатков, главным образом, связанных со временем выполнения кода. Традиционные структуры данных, такие как списки и кортежи, а также циклы for и while работают \"медленно\", и в случае анализа больших данных это становится проблемой. \n",
        "\n",
        "Библиотека NumPy предназначена для работы с многомерными массивами (arrays) и разработана таким образом, чтобы время выполнения операций с большими данными было **существенно меньше** (иногда в сотни или даже тысячи раз), чем при использовании \"чистого\" Python. Библиотека содержит большое количество быстрых и высокоуровневых операций с одно-, дву- и многомерными массивами (тензорами), а также ряд функций векторной и матричной алгебры. На базе массивов NumPy работают все библиотеки более высокого уровня в экосистеме Python (Pandas, Matplotlib, Scikit-Learn, библиотеки глубокого обучения Tensorflow, PyTorch и многие другие), что делает изучение идеологии массивов NumPy и возможностей этой библиотеки безусловным \"must have\" для аналитика."
      ],
      "metadata": {
        "_uuid": "7b5c526b267307e94db36be2109fd6d2e9b73bce",
        "id": "iZclvAT9Jxyh"
      }
    },
    {
      "cell_type": "markdown",
      "source": [
        "## Библиотека Pandas\n",
        "\n",
        "Pandas --- библиотека Python, основное предназначение которой --- загрузка, препроцессинг и разведочный анализ данных. Разведочный анализ предшествует непосредственно построению предсказательных моделей машинного обучения и призван помочь исследователю лучше понять особенности датасета, взаимосвязи (корреляции) между признаками, а также сделать первые простые выводы на основе данных. Однако \"просто\" --- не значит \"плохо\". Эти (на первый взгляд) примитивные выводы дают ориентиры (baselines) для последующих более сложных моделей, а может оказаться и так, что именно найденные на этапе разведочного анализа закономерности помогут достичь желаемой цели без погружения в сложные модели машинного обучения."
      ],
      "metadata": {
        "_uuid": "443d044d63f0da12fcb0fffbcfeaa6e87edc5676",
        "id": "z5dj8UuiJxyl"
      }
    },
    {
      "cell_type": "markdown",
      "source": [
        "## Визуализация. Библиотеки Matplotlib и Seaborn\n",
        "\n",
        "Важная составляющая разведочного анализа --- визуализация данных. Качественные графики и диаграммы помогают увидеть больше, чем скучные и однообразные таблицы. Библиотека Pandas имеет встроенные средства визуализации на основе графики Matplotlib. Сама по себе библиотека Matplotlib предоставляет множество низкоуровневых графических инструментов, так что исследователь может контролировать буквально всё --- от цвета точек до шрифтов на осях координат. Библиотека Seaborn содержит больше высокоуровневых возможностей и призвана в какой-то степени \"упростить жизнь\" пользователям Matplotlib, автоматизируя многие рутинные вещи. Обычно встроенная графика Pandas, библиотеки Matplotlib и Seaborn используются совместно, что мы и продемонстрируем в дальнейшем."
      ],
      "metadata": {
        "_uuid": "8e6c7ce497a4272ac7226db2e2de5b9a9e1ad89f",
        "id": "uWthuCcOJxyn"
      }
    },
    {
      "cell_type": "code",
      "source": [
        "# Импорт нужных библиотек\n",
        "import numpy as np \n",
        "import pandas as pd \n",
        "import matplotlib.pyplot as plt\n",
        "import seaborn as sns\n",
        "sns.set(); # более красивый внешний вид графиков по умолчанию"
      ],
      "metadata": {
        "_uuid": "8f2839f25d086af736a60e9eeb907d3b93b6e0e5",
        "_cell_guid": "b1076dfc-b9ad-4769-8c92-a6c4dae69d19",
        "trusted": true,
        "id": "i3BHe8H4Jxyo"
      },
      "execution_count": null,
      "outputs": []
    },
    {
      "cell_type": "markdown",
      "source": [
        "## Загрузка данных\n",
        "\n",
        "Данные, прошедшие предварительную подготовку и обработку, обычно имеют табличный формат и хранятся в виде CSV-файлов (а также TSV, XLS, XLSX etc.). В этом случае стоит использовать метод [read_csv](https://pandas.pydata.org/pandas-docs/stable/reference/api/pandas.read_csv.html). Также данные могут подтягиваться непосредственно из табличных баз данных, и для этих целей Pandas имеет метод [read_sql](https://pandas.pydata.org/pandas-docs/stable/reference/api/pandas.read_sql.html). В других случаях могут пригодиться [read_json](https://pandas.pydata.org/pandas-docs/stable/reference/api/pandas.read_json.html) и [прочие методы](https://pandas.pydata.org/pandas-docs/stable/user_guide/io.html).\n",
        "\n",
        "В ходе этого курса мы рассмотрим работу не только с традиционными табличными данными, но также с текстом и изображениями.\n",
        "\n",
        "Метод [read_csv](https://pandas.pydata.org/pandas-docs/stable/reference/api/pandas.read_csv.html) имеет множество настраиваемых параметров. Наиболее существенные из них: имя файла (или URL), тип разделителя ячеек (по умолчанию --- запятая), наличие строки заголовка (указывается её номер; по умолчанию имена признаков считываются из первой строки файла), наличие колонки с индексами (идентификаторами) строк (также указывается номер; по умолчанию --- отсутствует). С остальными параметрами рекомендуем ознакомиться в документации."
      ],
      "metadata": {
        "_cell_guid": "79c7e3d0-c299-4dcb-8224-4455121ee9b0",
        "_uuid": "d629ff2d2480ee46fbb7e2d37f6b5fab8052498a",
        "id": "k9j6PIBdJxyr"
      }
    },
    {
      "cell_type": "code",
      "source": [
        "df = pd.read_csv('../input/cardio_train.csv', sep=';')"
      ],
      "metadata": {
        "_uuid": "dd72b3933eb33d237b9a621c8f70122ac355385e",
        "trusted": true,
        "id": "PogxOCNaJxyt"
      },
      "execution_count": null,
      "outputs": []
    },
    {
      "cell_type": "markdown",
      "source": [
        "## Первый взгляд на данные"
      ],
      "metadata": {
        "_uuid": "d8897eb884d1842ed68c2267f55e79d02d711af0",
        "id": "FABN0wu1Jxyu"
      }
    },
    {
      "cell_type": "code",
      "source": [
        "# Метод head(n) предназначен для просмотра первых n строк таблицы (по умолчанию n=5)\n",
        "# Аналогично метод tail(n) возвращает последние n строк\n",
        "df.head()"
      ],
      "metadata": {
        "_uuid": "959bc296a4eed56dbc5543bab17eb62147d61b7d",
        "trusted": true,
        "id": "DoOkYG44Jxyw"
      },
      "execution_count": null,
      "outputs": []
    },
    {
      "cell_type": "code",
      "source": [
        "# Если признаков (столбцов) слишком много, полезно будет транспонировать вывод\n",
        "df.head(10).T"
      ],
      "metadata": {
        "_uuid": "5eb1925f9201cd9fdc26773001949293d91d9efa",
        "trusted": true,
        "id": "2lcKc2zeJxyy"
      },
      "execution_count": null,
      "outputs": []
    },
    {
      "cell_type": "code",
      "source": [
        "# Метод info() позволяет вывести общую информацию о датасете\n",
        "# Мы можем узнать тип каждого признака, а также есть ли в данных пропуски\n",
        "df.info()"
      ],
      "metadata": {
        "_uuid": "5c3e2d8083a9fffabb0c55dc6878909bdfdd5ccf",
        "trusted": true,
        "id": "KeV09Uc5Jxy0"
      },
      "execution_count": null,
      "outputs": []
    },
    {
      "cell_type": "code",
      "source": [
        "# Метод describe() позволяет собрать некоторую статистику по каждому числовому признаку\n",
        "# Для более удобного прочтения полученную таблицу можно транспонировать\n",
        "df.describe().T"
      ],
      "metadata": {
        "_uuid": "e9c0c50dbc900b63835cbc52982d2c3efad6b18a",
        "trusted": true,
        "id": "4Nnf7yXTJxy2"
      },
      "execution_count": null,
      "outputs": []
    },
    {
      "cell_type": "markdown",
      "source": [
        "Обратим внимание, что некоторые из признаков бинарные (smoke, alco, active, cardio), поэтому стандартные описательные статистики --- среднее, стандартное отклонение, медиана, квартили --- для них не имеют смысла. В этом случае полезнее будет обычный подсчёт значений. Например, так мы можем узнать, сколько пациентов с выявленными сердечно-сосудистыми заболеваниями (ССЗ) имеется в выборке."
      ],
      "metadata": {
        "_uuid": "a9d47a01e76e90190b52cb148a786a531829c7e2",
        "id": "ul22b2nuJxy3"
      }
    },
    {
      "cell_type": "code",
      "source": [
        "df['cardio'].value_counts()"
      ],
      "metadata": {
        "_uuid": "03820539dcfd33f38735578b80942a5e3ac9e8bd",
        "trusted": true,
        "id": "3slW6cj7Jxy4"
      },
      "execution_count": null,
      "outputs": []
    },
    {
      "cell_type": "markdown",
      "source": [
        "Мы видим, что здоровых и больных у нас примерно равное количество, т. е. классы 0 и 1 сбалансированы (о проблеме несбалансированных классов мы будем говорить позже)."
      ],
      "metadata": {
        "_uuid": "18d57f8b39de20013db6e9ef5018eb7e8428a855",
        "id": "owjOWR_fJxy5"
      }
    },
    {
      "cell_type": "code",
      "source": [
        "# Параметр normalize позволяет узнать процентное соотношение\n",
        "df['cardio'].value_counts(normalize=True)"
      ],
      "metadata": {
        "_uuid": "d11d45039c80ba630fd333ef7c4e74fd99404078",
        "trusted": true,
        "id": "_eVtT5ndJxy6"
      },
      "execution_count": null,
      "outputs": []
    },
    {
      "cell_type": "markdown",
      "source": [
        "## Исследуем отдельные признаки (\"фичи\")\n",
        "\n",
        "Посмотрим на распределение значений роста пациентов. Теория утверждает, что рост --- величина, обычно имеющая нормальное распределение."
      ],
      "metadata": {
        "_uuid": "181ebfe864fbf6795ab05e195fc524f82aee78a5",
        "id": "F4XYKkUqJxy7"
      }
    },
    {
      "cell_type": "code",
      "source": [
        "df['height'].hist();"
      ],
      "metadata": {
        "_uuid": "113ac890e4f30d426dc6388a5741beb5cc31894d",
        "trusted": true,
        "id": "aPPJZBvXJxy8"
      },
      "execution_count": null,
      "outputs": []
    },
    {
      "cell_type": "markdown",
      "source": [
        "График по умолчанию оказался малоинформативным. Попробуем улучшить ситуацию, добавив параметр bins."
      ],
      "metadata": {
        "_uuid": "c6d3b5cc73bfefa68d4008fc1a5b1fb5b94c193e",
        "id": "Yo5FhdrBJxy-"
      }
    },
    {
      "cell_type": "code",
      "source": [
        "df['height'].hist(bins=20);"
      ],
      "metadata": {
        "_uuid": "c5e9cee1ad52e08be0786e78d95905868cfacf9e",
        "trusted": true,
        "id": "LCnKnN0yJxzF"
      },
      "execution_count": null,
      "outputs": []
    },
    {
      "cell_type": "markdown",
      "source": [
        "Как и ожидалось, имеем нечто похожее на гистограмму нормального распределения. Однако на картнике не видны выбросы (outliers) --- точки, \"выбивающиеся\" из общей картины. Поэтому иногда полезнее применить boxplot (\"ящик с усиками\")."
      ],
      "metadata": {
        "_uuid": "6a60a0582b8da8d9b564bb5721a6c37d87d79324",
        "id": "KfTN8vB0JxzH"
      }
    },
    {
      "cell_type": "code",
      "source": [
        "sns.boxplot(df['height']);"
      ],
      "metadata": {
        "_uuid": "3eb6e1cb5c5e5a3aa1f7c686a77aa9819f829364",
        "trusted": true,
        "id": "HV7YUkAKJxzI"
      },
      "execution_count": null,
      "outputs": []
    },
    {
      "cell_type": "markdown",
      "source": [
        "Ширина \"ящика\" равна интерквартильному размаху (разность между третьим $Q_3$ и первым $Q_1$ квартилями). Вертикальная линия внутри ящика показывает медиану (второй квартиль). \"Усики\" ограничивают точки, попадающие в интервал $[Q_1-1.5*IQR; Q_3+1.5*IQR]$, где $IQR$ --- интерквартильный размах. Наконец, отдельные точки на графике соответствуют выбросам --- нетипичным для данной выборки значениям. Как видим, их оказалось довольно много."
      ],
      "metadata": {
        "_uuid": "a610eb68672f4c06830d86e62bb3789b314468fa",
        "id": "9LA4Ig_qJxzJ"
      }
    },
    {
      "cell_type": "markdown",
      "source": [
        "## Исследуем признаки совместно\n",
        "\n",
        "Например, исследователя может интересовать вопрос: каков средний возраст здоровых и больных пациентов? Признак age имеет неудобную для интерпретации единицу измерения --- дни, поэтому преобразуем его в количество лет. "
      ],
      "metadata": {
        "_uuid": "9ad6b2bd47d447bb0c437446d9051dc66870d8e6",
        "id": "YDoYUWGtJxzK"
      }
    },
    {
      "cell_type": "code",
      "source": [
        "# Обратите внимание - мы применяем здесь метод, а не функцию round. Это значительно ускоряет вычисления\n",
        "# Операция \"деления столбца на число\" работает интуитивно понятно - \n",
        "# каждый элемент делится на это число. Магия NumPy в действии!\n",
        "df['age'] = (df['age'] / 365).round()"
      ],
      "metadata": {
        "_uuid": "1274adb6c23b0c9b01258dd56ecdc60f623a6a27",
        "trusted": true,
        "id": "t6MO0NSmJxzM"
      },
      "execution_count": null,
      "outputs": []
    },
    {
      "cell_type": "markdown",
      "source": [
        "### GROUP BY\n",
        "Внимание: здесь мы знакомимся с одной очень полезной операцией --- группировкой. Метод groupby работает аналогично операции GROUP BY в языке SQL и позволяет группировать данные по одному или нескольким атрибутам, вычисляя затем агрегированные показатели в каждой группе."
      ],
      "metadata": {
        "_uuid": "cef53d9b4e1896c9802265a640310904fe916904",
        "id": "GLEF2SGdJxzN"
      }
    },
    {
      "cell_type": "code",
      "source": [
        "# Синтаксис предельно прост, лаконичен и интуитивно понятен\n",
        "df.groupby('cardio')['age'].mean()"
      ],
      "metadata": {
        "_uuid": "f5648baf448caa0e076b55a748c5538f09797ea6",
        "trusted": true,
        "id": "s--UeoDZJxzO"
      },
      "execution_count": null,
      "outputs": []
    },
    {
      "cell_type": "markdown",
      "source": [
        "Как показывают вычисления, средний возраст людей с ССЗ чуть выше, чем у здоровых. Эти вычисления можно также визуализировать с помощью встроенной графики Pandas."
      ],
      "metadata": {
        "_uuid": "15d51f83e42f9b8613bc879f5201cade1f82bd3f",
        "id": "TZyvKEWtJxzO"
      }
    },
    {
      "cell_type": "code",
      "source": [
        "df.groupby('cardio')['age'].mean().plot(kind='bar') \n",
        "plt.ylabel('Age') # добавляем подпись на оси Оу\n",
        "plt.show();"
      ],
      "metadata": {
        "_uuid": "f85092c80c842670dca738098371691ef6dff73f",
        "trusted": true,
        "id": "13pKl4OYJxzO"
      },
      "execution_count": null,
      "outputs": []
    },
    {
      "cell_type": "markdown",
      "source": [
        "### countplot\n",
        "Теперь попробуем посмотреть, как распределено количество здоровых и больных пациентов по возрастным группам. Здесь нам поможет график countplot библиотеки Seaborn."
      ],
      "metadata": {
        "_uuid": "bd15ac28c3438bf4877466dc7543a96d6a951e6f",
        "id": "oRn-DeFaJxzP"
      }
    },
    {
      "cell_type": "code",
      "source": [
        "plt.figure(figsize=(15, 8)) # увеличим размер картинки\n",
        "sns.countplot(y='age', hue='cardio', data=df);"
      ],
      "metadata": {
        "_uuid": "a61e84454eb4afef9b33430ab3dab7c23d2f07a8",
        "trusted": true,
        "id": "pO70HrneJxzP"
      },
      "execution_count": null,
      "outputs": []
    },
    {
      "cell_type": "markdown",
      "source": [
        "Важное наблюдение --- начиная с 55 лет количество больных пациентов превышает количество здоровых."
      ],
      "metadata": {
        "_uuid": "92ea80e18b57d56254588542fe19997e7fc6f143",
        "id": "eX08E7NRJxzR"
      }
    },
    {
      "cell_type": "markdown",
      "source": [
        "### Scatter plot\n",
        "Полезным типом графика для исследования пар числовых признаков является диаграмма рассеяния (scatter plot). Рассмотрим возраст и рост пациентов."
      ],
      "metadata": {
        "_uuid": "b97793b21339e9fc4a29d33ca3bcc52ab5890ed6",
        "id": "b92-sio1JxzR"
      }
    },
    {
      "cell_type": "code",
      "source": [
        "plt.scatter(df['age'], df['height']);"
      ],
      "metadata": {
        "_uuid": "143e0e9ed99ff27257e3ba30d1149d584cd9ec61",
        "trusted": true,
        "id": "XT1Ek-j-JxzS"
      },
      "execution_count": null,
      "outputs": []
    },
    {
      "cell_type": "markdown",
      "source": [
        "Здесь становится ясно, что наши выбросы в данных --- это просто ошибки ввода. Если, конечно, мы не проводили исследование среди лиллипутов :)"
      ],
      "metadata": {
        "_uuid": "5b9eaf9f5c880c49621a0f63974797d3ce4ef46d",
        "id": "rFqxMYwgJxzS"
      }
    },
    {
      "cell_type": "markdown",
      "source": [
        "Для изучения совместного распределения двух числовых признаков полезным может оказаться jointplot библиотеки Seaborn:"
      ],
      "metadata": {
        "_uuid": "6f95627d798ab6d9707125e20b28b83b4af80450",
        "id": "3DO5bg-vJxzT"
      }
    },
    {
      "cell_type": "code",
      "source": [
        "sns.jointplot(x='height', y='weight', data=df);"
      ],
      "metadata": {
        "_uuid": "7dd0fc2958763bbcdff23d323a6beb591359e93d",
        "trusted": true,
        "id": "la_KB5Y3JxzT"
      },
      "execution_count": null,
      "outputs": []
    },
    {
      "cell_type": "markdown",
      "source": [
        "Ошибки и аномалии в данных чётко видны и на этом графике. Также можно заключить, что без учёта выбросов рост и вес имеют распределения, близкие к нормальному."
      ],
      "metadata": {
        "_uuid": "96e48bd8438be95e5269f5bef1dd181b5b6aa014",
        "id": "LvcZ6XaWJxzW"
      }
    },
    {
      "cell_type": "markdown",
      "source": [
        "### Сводные таблицы\n",
        "\n",
        "Для исследования трёх и более признаков полезным инструментов являются сводные таблицы (pivot tables). Этот инструмент хорошо знаком продвинутым пользователям электронных таблиц Excel, Google Spreadsheets. Рассмотрим, как с помощью сводной таблицы ответить на вопросы: \n",
        "- верно ли, что с возрастом люди становятся более склонны к употреблению алкоголя;\n",
        "- верно ли, что среди курящих процент ССЗ больше."
      ],
      "metadata": {
        "_uuid": "a4a7ee2249ecc4b6e5717ba94e9a0210f509f722",
        "id": "LAjZbfvcJxzX"
      }
    },
    {
      "cell_type": "code",
      "source": [
        "# values - признаки, по которым вычисляются значения функции aggfunc\n",
        "# index - признаки, по которым выполняется группировка\n",
        "df.pivot_table(values=['age', 'cardio'], index=['smoke', 'alco'], aggfunc='mean')"
      ],
      "metadata": {
        "_uuid": "3a86593aa83ad9966a4439706aa2a9658c69e86d",
        "trusted": true,
        "id": "tEgiZtyPJxzZ"
      },
      "execution_count": null,
      "outputs": []
    },
    {
      "cell_type": "markdown",
      "source": [
        "Как видим, ответы на оба вопроса отрицательные. Склонность к алкоголю, похоже, не коррелирует с возрастом, а процент ССЗ оказался выше среди некурящих."
      ],
      "metadata": {
        "_uuid": "9fb1fb07009e2c094dd293abd3723c9138659b7e",
        "id": "xzOlUisoJxzZ"
      }
    },
    {
      "cell_type": "markdown",
      "source": [
        "Чтобы понять, как связаны употребление алкоголя и курение, посмотрим на кросс-таблицу (таблицу сопряжённости):"
      ],
      "metadata": {
        "_uuid": "7fe5f7d12f3f70256407c1f1ecfbdcc809d5316e",
        "id": "R_q2guH3Jxza"
      }
    },
    {
      "cell_type": "code",
      "source": [
        "pd.crosstab(df['smoke'], df['alco'])"
      ],
      "metadata": {
        "_uuid": "1f5161aa255f357af3719afcc28d36055cb4d8b2",
        "trusted": true,
        "id": "XP3EvYrLJxzb"
      },
      "execution_count": null,
      "outputs": []
    },
    {
      "cell_type": "markdown",
      "source": [
        "Пока можно только сказать, что непьющих и некурящих пациентов существенно больше, чем всех остальных. Для обоснованных выводов о взаимосвязи следует обратиться к численным расчётам."
      ],
      "metadata": {
        "_uuid": "7d5d04a74139eb2032333a898c9cc4fd4859ea42",
        "id": "d0dsaWGtJxzc"
      }
    },
    {
      "cell_type": "markdown",
      "source": [
        "## Выборка данных по условию. Способы индексирования в Pandas\n",
        "\n",
        "Иногда нам нужно провести вычисления не на всей обучающей выборке, а на некоторой её части. Для этого нужно знать и понимать способы доступа к ячейкам в датафреймах.\n",
        "\n",
        "Начнём с исследования одного признака \"в себе\". Для примера возьмём рост."
      ],
      "metadata": {
        "_uuid": "63fe272bab3fcbaba2810e7047b2981648c94940",
        "id": "-6E1Kr3gJxzc"
      }
    },
    {
      "cell_type": "code",
      "source": [
        "h = df['height'] # сохраним всю колонку \"рост\" в отдельную переменную для экспериментов\n",
        "type(h) # посмотрим тип "
      ],
      "metadata": {
        "_uuid": "02fd5a7508f506c9f1281a411f6b6258ff701ef4",
        "trusted": true,
        "id": "td-Bv2ToJxzd"
      },
      "execution_count": null,
      "outputs": []
    },
    {
      "cell_type": "markdown",
      "source": [
        "Таким образом, видим, что таблица (датафрейм, DataFrame) представляет собой набор именованных столбцов (рядов, Series). Доступ к столбцам осуществляется по ключу --- названию столбца, как в словарях Python. Технически можно представлять себе датафрейм как словарь столбцов.\n",
        "\n",
        "А как же насчёт строк?"
      ],
      "metadata": {
        "_uuid": "8c9a81c1368bc70262fc8fbd6379b0dcd3e20710",
        "id": "i9D5F4J6Jxze"
      }
    },
    {
      "cell_type": "code",
      "source": [
        "first_patient = df[0]"
      ],
      "metadata": {
        "_uuid": "9b80987f47c3403c3d9c83a9e857f541421748f5",
        "trusted": true,
        "id": "lWm81RgSJxzf"
      },
      "execution_count": null,
      "outputs": []
    },
    {
      "cell_type": "markdown",
      "source": [
        "Oops! Мы получили ошибку: KeyError означает, что нет столбца с именем \"0\". То есть обратиться к строке через обычный индекс мы не можем. Для этого нам будет нужен \"неявный\" индекс (implicit loc, iloc)."
      ],
      "metadata": {
        "_uuid": "47c321b61301baefcf437c0438107b98601940ab",
        "id": "OSx5UOtpJxzg"
      }
    },
    {
      "cell_type": "code",
      "source": [
        "first_patient = df.iloc[0]\n",
        "print(first_patient)"
      ],
      "metadata": {
        "_uuid": "fd84ce4f6813cf8ab3dd149ea58d8a3f5fba2269",
        "trusted": true,
        "id": "bLUpWkAsJxzh"
      },
      "execution_count": null,
      "outputs": []
    },
    {
      "cell_type": "markdown",
      "source": [
        "И опять мы видим, что технически строка датафрейма представляет собой словарь. Ключами словаря являются имена столбцов, значениями --- значения признаков для данной строки.\n",
        "\n",
        "Чтобы узнать, например, возраст первого пациента (не запоминая его в отдельную переменную), нужно применить явное индексирование (loc):"
      ],
      "metadata": {
        "_uuid": "78d338a0e27cf4c6ece03992658c9c61ab1d2fb3",
        "id": "HOnpDZs2Jxzi"
      }
    },
    {
      "cell_type": "code",
      "source": [
        "print(df.loc[0, 'age'])"
      ],
      "metadata": {
        "_uuid": "d65b13692e329cb076e3b79d857dc0832b4c69c3",
        "trusted": true,
        "id": "d0Px1HVDJxzj"
      },
      "execution_count": null,
      "outputs": []
    },
    {
      "cell_type": "markdown",
      "source": [
        "Вернёмся теперь к переменной h. Напомню, в ней мы сохранили все значения из столбца \"рост\". Рост указан в сантиметрах. Переведём в метры."
      ],
      "metadata": {
        "_uuid": "84e837ccfb4e015e674e928f582c638537abbd46",
        "id": "p8DPo9YVJxzj"
      }
    },
    {
      "cell_type": "code",
      "source": [
        "h_meters = h / 100 # предельно просто!\n",
        "h_meters[:10] # в отдельных столбцах уже можно применять \"обычные\" срезы, как в списках"
      ],
      "metadata": {
        "_uuid": "6d95d2fcdb879e5b83924757503ebef2c3df2b5a",
        "trusted": true,
        "id": "Iit9P5JaJxzl"
      },
      "execution_count": null,
      "outputs": []
    },
    {
      "cell_type": "markdown",
      "source": [
        "Выше на нескольких диаграммах мы видели, что среди значений роста присутствуют ошибки. Давайте посмотрим, сколько пациентов имеют рост ниже 125 см. Внимание, вопрос --- как решить эту задачу в классическом стиле?"
      ],
      "metadata": {
        "_uuid": "364c5c05b858ceacee53092dab40286ebff6f3b0",
        "id": "sAQ4oMzwJxzl"
      }
    },
    {
      "cell_type": "code",
      "source": [
        "%%timeit\n",
        "lilliputs = 0\n",
        "for value in h:\n",
        "    if value < 125:\n",
        "        lilliputs = lilliputs + 1"
      ],
      "metadata": {
        "_uuid": "288b50d4d3e17b8c8ba64900210d93839bb83df9",
        "trusted": true,
        "id": "8RYg3iejJxzm"
      },
      "execution_count": null,
      "outputs": []
    },
    {
      "cell_type": "markdown",
      "source": [
        "А теперь решим ту же задачу в NumPy-стиле:"
      ],
      "metadata": {
        "_uuid": "619947f6edc606e425e31e6e0d891eec4ef87219",
        "id": "vk4IpY2bJxzm"
      }
    },
    {
      "cell_type": "code",
      "source": [
        "%%timeit\n",
        "h[h < 125].shape[0]"
      ],
      "metadata": {
        "_uuid": "d88c25db7a8642e53748a6ad3eabf454039f4863",
        "trusted": true,
        "id": "Mi9X37SWJxzn"
      },
      "execution_count": null,
      "outputs": []
    },
    {
      "cell_type": "markdown",
      "source": [
        "Итак, второй способ оказался быстрее приблизительно в 5 раз на наборе данных из 70000 значений (относительно небольшом). С ростом длины вектора циклы становятся в сотни и тысячи раз медленнее, чем векторизованные операции NumPy."
      ],
      "metadata": {
        "_uuid": "b79e68977b49bdc9ff3f6ff6d613cb12f15278cb",
        "id": "PvU15RzKJxzn"
      }
    },
    {
      "cell_type": "markdown",
      "source": [
        "Итак, выборку из массива значений можно выполнять по условному индексу. Похожим образом это работает и для отбора строк в датафрейме."
      ],
      "metadata": {
        "_uuid": "2d3764615b7db9db83464a7ad7b939daa459ef99",
        "id": "j7XeK-AnJxzn"
      }
    },
    {
      "cell_type": "code",
      "source": [
        "# Вычислим средний возраст людей, склонных к курению\n",
        "df[df['smoke'] == 1]['age'].mean()"
      ],
      "metadata": {
        "_uuid": "5eb9c2e12426f85fae47f4bfd73fb95bd92a37d5",
        "trusted": true,
        "id": "Lw0z1LHCJxzp"
      },
      "execution_count": null,
      "outputs": []
    },
    {
      "cell_type": "code",
      "source": [
        "# Условие может быть составным\n",
        "df[(df['smoke'] == 1) & (df['cardio'] == 1)]['age'].mean()"
      ],
      "metadata": {
        "_uuid": "9d1793692fbe9b2a0f6c9d4fa12ae0fa33c15b8d",
        "trusted": true,
        "id": "dzEV25G5Jxzp"
      },
      "execution_count": null,
      "outputs": []
    },
    {
      "cell_type": "markdown",
      "source": [
        "## Фильтрация датафрейма. Удаление строк и столбцов\n",
        "\n",
        "Для удаления строк и столбцов в датафрейме используется метод drop. Рассмотрим удаление по ключам и по условию."
      ],
      "metadata": {
        "_uuid": "98032a313ae9bfab9c22b0dc63a0fa0458c68da8",
        "id": "Esx11DYsJxzp"
      }
    },
    {
      "cell_type": "code",
      "source": [
        "# Удалим целевой признак cardio\n",
        "dummy_df = df.drop('cardio', axis=1)\n",
        "dummy_df.head()"
      ],
      "metadata": {
        "_uuid": "0204a44c6e499711c5180c39f403d461cf7cc4b9",
        "trusted": true,
        "id": "cUvVdxePJxzq"
      },
      "execution_count": null,
      "outputs": []
    },
    {
      "cell_type": "code",
      "source": [
        "# Удалим первые 100 пациентов\n",
        "dummy_df = df.drop(np.arange(100), axis=0)\n",
        "dummy_df.head()"
      ],
      "metadata": {
        "_uuid": "eea7df2c30da545277e0359342686929b1527eb5",
        "trusted": true,
        "id": "sYEZxfXIJxzr"
      },
      "execution_count": null,
      "outputs": []
    },
    {
      "cell_type": "code",
      "source": [
        "# Удалим всех пацентов с ростом ниже 125 см, а также выше 200 см\n",
        "dummy_df = df.drop(df[(df['height'] < 125) | (df['height'] > 200)].index)\n",
        "dummy_df.shape[0] / df.shape[0]"
      ],
      "metadata": {
        "_uuid": "c782eef93243c01b8886a96e0d567fcf2a3e0d7f",
        "trusted": true,
        "id": "MGgyC91cJxzs"
      },
      "execution_count": null,
      "outputs": []
    },
    {
      "cell_type": "markdown",
      "source": [
        "Как видим, процент выбросов небольшой --- оставшаяся выборка составляет 99.9 % исходной."
      ],
      "metadata": {
        "_uuid": "ec88bfab5ed38cb31c20b18e37e871beefce96e4",
        "id": "sAplmoPOJxzt"
      }
    },
    {
      "cell_type": "markdown",
      "source": [
        "## Добавление новых признаков"
      ],
      "metadata": {
        "_uuid": "83512f0d940e1b6d4d6ac005ecc1cd9c05ff4043",
        "id": "fCUxakPAJxzt"
      }
    },
    {
      "cell_type": "code",
      "source": [
        "df['height_cm'] = df['height'] / 100\n",
        "df.head()"
      ],
      "metadata": {
        "_uuid": "e978c53eb0b9ecf2f7e155c86399247f52837ebf",
        "trusted": true,
        "id": "jEb_DqsyJxzt"
      },
      "execution_count": null,
      "outputs": []
    },
    {
      "cell_type": "markdown",
      "source": [
        "## Перекодировка значений признаков\n",
        "Наш датасет содержит только числовые значения, однако часто среди признаков есть категориальные, и в этом случае на этапе предобработки нужно применить один из видов кодирования. Простейший тип кодирования --- замена одних значений другими (label encoding). В данном случае нам придётся (исключительно с целью продемонстрировать работу метода) применить обратную операцию. Например, перекодируем признак \"уровень холестерина\" по принципу:\n",
        "- 1 --- \"low\"\n",
        "- 2 --- \"normal\"\n",
        "- 3 --- \"high\""
      ],
      "metadata": {
        "_uuid": "a61ff033ebf1d6a4bf3550de16c774645f29a1a8",
        "id": "R07lxli0Jxzu"
      }
    },
    {
      "cell_type": "code",
      "source": [
        "new_values = {1:'low', 2:'normal', 3:'high'} # обычный словарь Python\n",
        "df['dummy_cholesterol'] = df['cholesterol'].map(new_values)\n",
        "df.head()"
      ],
      "metadata": {
        "_uuid": "fa023a33f0fc254713858255d66c44a6dad9187b",
        "trusted": true,
        "id": "xxJeyuc1Jxzu"
      },
      "execution_count": null,
      "outputs": []
    },
    {
      "cell_type": "markdown",
      "source": [
        "Перекодируем целевой признак cardio в логический (True/False)."
      ],
      "metadata": {
        "_uuid": "b5549d984f13afbe7307f6fcf82512fab463e182",
        "id": "pZw4iEfGJxzv"
      }
    },
    {
      "cell_type": "code",
      "source": [
        "df['cardio'] = df['cardio'].astype(bool)\n",
        "df.head()"
      ],
      "metadata": {
        "_uuid": "9df95520d51165a7609914fc388ffd1c4a8980d0",
        "trusted": true,
        "id": "4MUZ-tIfJxzv"
      },
      "execution_count": null,
      "outputs": []
    },
    {
      "cell_type": "markdown",
      "source": [
        "# Задания для самостоятельной работы\n",
        "\n",
        "1. Определите количество мужчин и женщин среди испытуемых. Обратите внимание, что способ кодирования переменной gender мы не знаем. Воспользуемся медицинским фактом, а именно: мужчины в среднем выше женщин.\n",
        "\n",
        "2. Верно ли, что мужчины более склонны к употреблению алкоголя, чем женщины?\n",
        "\n",
        "3. Каково различие между процентами курящих мужчин и женщин?\n",
        "\n",
        "4. Какова разница между средними значениями возраста для курящих и некурящих?\n",
        "\n",
        "5. Создайте новый признак --- BMI (body mass index, индекс массы тела). Для этого разделите вес в килограммах на квадрат роста в метрах. Считается, что нормальные значения ИМТ составляют от 18.5 до 25. Выберите верные утверждения:\n",
        "\n",
        "    (a) Средний ИМТ находится в диапазоне нормальных значений ИМТ.\n",
        "\n",
        "    (b) ИМТ для женщин в среднем выше, чем для мужчин.\n",
        "\n",
        "    (c) У здоровых людей в среднем более высокий ИМТ, чем у людей с ССЗ.\n",
        "\n",
        "    (d) Для здоровых непьющих мужчин ИМТ ближе к норме, чем для здоровых непьющих женщин\n",
        "\n",
        "6. Удалите пациентов, у которых диастолическое давление выше систолического. Какой процент от общего количества пациентов они составляли?\n",
        "\n",
        "7. На сайте Европейского общества кардиологов представлена шкала [SCORE](https://www.escardio.org/static_file/Escardio/Subspecialty/EACPR/Documents/score-charts.pdf). Она используется для расчёта риска смерти от сердечно-сосудистых заболеваний в ближайшие 10 лет. \n",
        "\n",
        "    Рассмотрим верхний правый прямоугольник, который показывает подмножество курящих мужчин в возрасте от 60 до 65 лет (значения по вертикальной оси на рисунке представляют верхнюю границу).\n",
        "\n",
        "    Мы видим значение 9 в левом нижнем углу прямоугольника и 47 в правом верхнем углу. Это означает, что для людей этой возрастной группы с систолическим давлением менее 120 и низким уровнем холестерина риск сердечно-сосудистых заболеваний оценивается примерно в 5 раз ниже, чем для людей с давлением в интервале [160, 180] и высоким уровнем холестерина.\n",
        "\n",
        "    Вычислите аналогичное соотношение для наших данных.\n",
        "\n",
        "8. Визуализируйте распределение уровня холестерина для различных возрастных категорий.\n",
        "\n",
        "9. Как распределена переменная BMI? Есть ли выбросы \n",
        "\n",
        "10. Как соотносятся ИМТ и наличие ССЗ? Придумайте подходящую визуализацию.\n"
      ],
      "metadata": {
        "_uuid": "4bc24c40af5fd52a7956d01ca47d674335a423bc",
        "id": "zCQqpalrJxzx"
      }
    },
    {
      "cell_type": "markdown",
      "source": [
        ""
      ],
      "metadata": {
        "_uuid": "8bfdf891f7c7e34f8e7b936e91a4a5c9ee29f44a",
        "id": "YKoCY-MOJxzy"
      }
    }
  ]
}